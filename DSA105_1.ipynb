{
  "nbformat": 4,
  "nbformat_minor": 0,
  "metadata": {
    "colab": {
      "provenance": [],
      "authorship_tag": "ABX9TyNzolSBxQQd9IzzY3BPo4gS",
      "include_colab_link": true
    },
    "kernelspec": {
      "name": "python3",
      "display_name": "Python 3"
    },
    "language_info": {
      "name": "python"
    }
  },
  "cells": [
    {
      "cell_type": "markdown",
      "metadata": {
        "id": "view-in-github",
        "colab_type": "text"
      },
      "source": [
        "<a href=\"https://colab.research.google.com/github/vicky-tec/DSA-105/blob/main/DSA105_1.ipynb\" target=\"_parent\"><img src=\"https://colab.research.google.com/assets/colab-badge.svg\" alt=\"Open In Colab\"/></a>"
      ]
    },
    {
      "cell_type": "code",
      "execution_count": 1,
      "metadata": {
        "colab": {
          "base_uri": "https://localhost:8080/"
        },
        "id": "fttScBDM4VN1",
        "outputId": "72c486d5-a9bd-4dec-e341-5043d89d65c3"
      },
      "outputs": [
        {
          "output_type": "stream",
          "name": "stdout",
          "text": [
            "hello vicky\n"
          ]
        }
      ],
      "source": [
        "print(\"hello vicky\")"
      ]
    },
    {
      "cell_type": "code",
      "source": [],
      "metadata": {
        "id": "u_COKb1JAvfn"
      },
      "execution_count": null,
      "outputs": []
    },
    {
      "cell_type": "code",
      "source": [
        "name=input(\"enter your name\")\n",
        "print(\"welcome\",name)"
      ],
      "metadata": {
        "colab": {
          "base_uri": "https://localhost:8080/"
        },
        "id": "PXFK8Zis5BF3",
        "outputId": "73012ceb-6d77-47ef-c42a-1b9853ef44fa"
      },
      "execution_count": null,
      "outputs": [
        {
          "output_type": "stream",
          "name": "stdout",
          "text": [
            "enter your namevr\n",
            "welcome vr\n"
          ]
        }
      ]
    },
    {
      "cell_type": "code",
      "source": [
        "a=2\n",
        "b=3\n",
        "print(a<=b)\n",
        "print(a>=b)\n",
        "print(a!=b)\n",
        "print(a==b)\n",
        "print(a+b)\n",
        "print(a+a)"
      ],
      "metadata": {
        "colab": {
          "base_uri": "https://localhost:8080/"
        },
        "id": "JpAcia_a5j3b",
        "outputId": "8858d2ec-119b-4e46-d298-5afabb40be2e"
      },
      "execution_count": null,
      "outputs": [
        {
          "output_type": "stream",
          "name": "stdout",
          "text": [
            "True\n",
            "False\n",
            "True\n",
            "False\n",
            "5\n",
            "4\n"
          ]
        }
      ]
    },
    {
      "cell_type": "code",
      "source": [
        "print('''happy\n",
        "teacher's\n",
        "day''')"
      ],
      "metadata": {
        "colab": {
          "base_uri": "https://localhost:8080/"
        },
        "id": "XeBRf3hO6H41",
        "outputId": "97693bb6-3b91-40ec-87c6-d9e2fe7acc79"
      },
      "execution_count": null,
      "outputs": [
        {
          "output_type": "stream",
          "name": "stdout",
          "text": [
            "happy\n",
            "teacher's \n",
            "day\n"
          ]
        }
      ]
    },
    {
      "cell_type": "code",
      "source": [
        "print(\"Happy Teacher's Day\")"
      ],
      "metadata": {
        "colab": {
          "base_uri": "https://localhost:8080/"
        },
        "id": "tMcY_QzC5vI1",
        "outputId": "9a9576cf-f5a9-4109-91d4-3b53f198326c"
      },
      "execution_count": null,
      "outputs": [
        {
          "output_type": "stream",
          "name": "stdout",
          "text": [
            "Happy Teacher's Day\n"
          ]
        }
      ]
    },
    {
      "cell_type": "code",
      "source": [
        "a=2\n",
        "b=3\n",
        "print(a<=b)\n",
        "print(a>=b)\n",
        "print(a!=b)\n",
        "print(a==b)\n",
        "print(a+b)\n",
        "print(a+a)\n",
        "print(a*b)\n",
        "print(a*a)"
      ],
      "metadata": {
        "colab": {
          "base_uri": "https://localhost:8080/"
        },
        "id": "WaKGD01G6W23",
        "outputId": "378bcbd3-daa3-49e5-b907-388c5436d762"
      },
      "execution_count": null,
      "outputs": [
        {
          "output_type": "stream",
          "name": "stdout",
          "text": [
            "True\n",
            "False\n",
            "True\n",
            "False\n",
            "5\n",
            "4\n",
            "6\n",
            "4\n"
          ]
        }
      ]
    },
    {
      "cell_type": "code",
      "source": [
        "x=\"CDA\"\n",
        "y=105\n",
        "print(x,y)\n",
        "print(type(y))\n",
        "print(type(x))\n"
      ],
      "metadata": {
        "colab": {
          "base_uri": "https://localhost:8080/"
        },
        "id": "sNW33aSm6mrR",
        "outputId": "9140b723-a5ba-499a-e2c4-959322523b43"
      },
      "execution_count": null,
      "outputs": [
        {
          "output_type": "stream",
          "name": "stdout",
          "text": [
            "CDA 105\n",
            "<class 'int'>\n",
            "<class 'str'>\n"
          ]
        }
      ]
    },
    {
      "cell_type": "code",
      "source": [
        "print(type(y))"
      ],
      "metadata": {
        "colab": {
          "base_uri": "https://localhost:8080/"
        },
        "id": "ipaS8tD-7FA6",
        "outputId": "f522fbe6-f09f-4721-a198-0fe496b8c846"
      },
      "execution_count": null,
      "outputs": [
        {
          "output_type": "stream",
          "name": "stdout",
          "text": [
            "<class 'int'>\n"
          ]
        }
      ]
    },
    {
      "cell_type": "code",
      "source": [
        "x,y,z=\"python\", \"is\",\"good\"\n",
        "print(x,y,z)\n"
      ],
      "metadata": {
        "colab": {
          "base_uri": "https://localhost:8080/"
        },
        "id": "FvhSGfSe7IoE",
        "outputId": "6c68c112-5baf-4962-80fa-a42b40299b05"
      },
      "execution_count": null,
      "outputs": [
        {
          "output_type": "stream",
          "name": "stdout",
          "text": [
            "python is good\n"
          ]
        }
      ]
    },
    {
      "cell_type": "code",
      "source": [
        "x1=20\n",
        "x2=10\n",
        "y1=x1+x2\n",
        "y2=x2%x1\n",
        "print(y2)\n",
        "print(\"sum of\",x1 ,\"and\" ,x2 ,\"is\", y1)"
      ],
      "metadata": {
        "colab": {
          "base_uri": "https://localhost:8080/"
        },
        "id": "Y635n6LE8iLE",
        "outputId": "4297ae26-054a-45da-edd8-238134fed136"
      },
      "execution_count": null,
      "outputs": [
        {
          "output_type": "stream",
          "name": "stdout",
          "text": [
            "10\n",
            "sum of 20 and 10 is 30\n"
          ]
        }
      ]
    },
    {
      "cell_type": "code",
      "source": [
        "print(x1*x2)"
      ],
      "metadata": {
        "colab": {
          "base_uri": "https://localhost:8080/"
        },
        "id": "ZgJTKUEz8vlb",
        "outputId": "0304f4d5-bf88-4484-a727-d93e3b32ec6f"
      },
      "execution_count": null,
      "outputs": [
        {
          "output_type": "stream",
          "name": "stdout",
          "text": [
            "200\n"
          ]
        }
      ]
    },
    {
      "cell_type": "code",
      "source": [
        "a=2\n",
        "print(a**2)"
      ],
      "metadata": {
        "colab": {
          "base_uri": "https://localhost:8080/"
        },
        "id": "pYRgTyIU-EJ0",
        "outputId": "2a1e362d-e613-4fbd-9841-7466d1e61caf"
      },
      "execution_count": null,
      "outputs": [
        {
          "output_type": "stream",
          "name": "stdout",
          "text": [
            "4\n"
          ]
        }
      ]
    },
    {
      "cell_type": "code",
      "source": [
        "z=2+3j\n",
        "print(z)\n",
        "print(type(z))"
      ],
      "metadata": {
        "colab": {
          "base_uri": "https://localhost:8080/"
        },
        "id": "uMLjOpH4-KLb",
        "outputId": "1060c3bf-689a-43ec-f5c2-ed15ce2aa28a"
      },
      "execution_count": null,
      "outputs": [
        {
          "output_type": "stream",
          "name": "stdout",
          "text": [
            "(2+3j)\n",
            "<class 'complex'>\n"
          ]
        }
      ]
    },
    {
      "cell_type": "code",
      "source": [
        "x=[\"Vr\",2,3,4,5]\n",
        "print(x)\n",
        "print(type(x))\n"
      ],
      "metadata": {
        "colab": {
          "base_uri": "https://localhost:8080/"
        },
        "id": "5czwOJ92-m5j",
        "outputId": "77a2fdb4-2e68-449c-acd1-13cfdff576a1"
      },
      "execution_count": null,
      "outputs": [
        {
          "output_type": "stream",
          "name": "stdout",
          "text": [
            "['Vr', 2, 3, 4, 5]\n",
            "<class 'list'>\n"
          ]
        }
      ]
    },
    {
      "cell_type": "code",
      "source": [
        "print(len(x))"
      ],
      "metadata": {
        "colab": {
          "base_uri": "https://localhost:8080/"
        },
        "id": "yBI1LZHS-_sE",
        "outputId": "5dffdb4e-06e7-49b9-bd76-dcd21ba48cdc"
      },
      "execution_count": null,
      "outputs": [
        {
          "output_type": "stream",
          "name": "stdout",
          "text": [
            "5\n"
          ]
        }
      ]
    },
    {
      "cell_type": "code",
      "source": [
        "print(x[0])\n",
        "print(x[-2])\n",
        "print(x[1])\n",
        "print(x[-5])"
      ],
      "metadata": {
        "colab": {
          "base_uri": "https://localhost:8080/"
        },
        "id": "fkOjNlVc_EAS",
        "outputId": "d064fe81-6764-42a9-bdbf-320a993fdd00"
      },
      "execution_count": null,
      "outputs": [
        {
          "output_type": "stream",
          "name": "stdout",
          "text": [
            "Vr\n",
            "4\n",
            "2\n",
            "Vr\n"
          ]
        }
      ]
    },
    {
      "cell_type": "code",
      "source": [
        "x.append(\"123\")\n",
        "print(x)"
      ],
      "metadata": {
        "colab": {
          "base_uri": "https://localhost:8080/"
        },
        "id": "rY5nCnpS_hb8",
        "outputId": "712d9175-40d2-4cb8-b915-db53b36044c4"
      },
      "execution_count": null,
      "outputs": [
        {
          "output_type": "stream",
          "name": "stdout",
          "text": [
            "['Vr', 2, 3, 4, 5, '123']\n"
          ]
        }
      ]
    },
    {
      "cell_type": "code",
      "source": [
        "x.insert(3,'joker')\n",
        "print(x)"
      ],
      "metadata": {
        "colab": {
          "base_uri": "https://localhost:8080/"
        },
        "id": "A3-rNz_bAUVG",
        "outputId": "753f6abe-5384-4c4c-ab7a-5dcc8d731445"
      },
      "execution_count": null,
      "outputs": [
        {
          "output_type": "stream",
          "name": "stdout",
          "text": [
            "['Vr', 2, 3, 'joker', 4, 5, '123']\n"
          ]
        }
      ]
    },
    {
      "cell_type": "code",
      "source": [
        "x=int(input(\"enter your number\"))\n",
        "y=int(input(\"enter your second number\"))\n",
        "w=x+y\n",
        "print(\"sum of your no is\",w)"
      ],
      "metadata": {
        "colab": {
          "base_uri": "https://localhost:8080/"
        },
        "id": "G-oTgxwCEZ8O",
        "outputId": "1b17e330-7553-45cd-d92e-9a5084038c95"
      },
      "execution_count": null,
      "outputs": [
        {
          "output_type": "stream",
          "name": "stdout",
          "text": [
            "enter your number4\n",
            "enter your second number5\n",
            "sum of your no is 9\n"
          ]
        }
      ]
    },
    {
      "cell_type": "code",
      "source": [
        "x=(input(\"enter your number\"))\n",
        "y=(input(\"enter your second number\"))\n",
        "x=int(x)\n",
        "y=int(y)\n",
        "\n",
        "w=x+y\n",
        "print(\"sum of your no is\",w)\n",
        "\n",
        "print(\"Thank You\")"
      ],
      "metadata": {
        "colab": {
          "base_uri": "https://localhost:8080/"
        },
        "id": "7R0xiucdA3iq",
        "outputId": "18797cde-5c10-443a-ee08-e0ef5e0097af"
      },
      "execution_count": null,
      "outputs": [
        {
          "output_type": "stream",
          "name": "stdout",
          "text": [
            "enter your number2\n",
            "enter your second number3\n",
            "sum of your no is 5\n",
            "Thank You\n"
          ]
        }
      ]
    },
    {
      "cell_type": "code",
      "source": [
        "\n",
        "sugar_level_list = [120,130,140,112,120,124,169]\n",
        "for i in range(len(sugar_level_list)):\n",
        "    if sugar_level_list[i] > 120:\n",
        "      print (i,\"sugar level is high\")\n",
        "    else:\n",
        "      print(i,\"sugar level is normal\")"
      ],
      "metadata": {
        "colab": {
          "base_uri": "https://localhost:8080/"
        },
        "id": "l186CbnfBX02",
        "outputId": "97ce6aef-83bb-4130-e2e4-7ef5fbcadbed"
      },
      "execution_count": null,
      "outputs": [
        {
          "output_type": "stream",
          "name": "stdout",
          "text": [
            "0 sugar level is normal\n",
            "1 sugar level is high\n",
            "2 sugar level is high\n",
            "3 sugar level is normal\n",
            "4 sugar level is normal\n",
            "5 sugar level is high\n",
            "6 sugar level is high\n"
          ]
        }
      ]
    },
    {
      "cell_type": "code",
      "source": [
        "a_sum = 0\n",
        "\n",
        "print(\"Enter numbers to add. Type 'done' when you are finished.\")\n",
        "\n",
        "while True:\n",
        "    user_a = input(\"Enter a number: \")\n",
        "    if user_a.lower() == 'done':\n",
        "        break\n",
        "\n",
        "    try:\n",
        "        number = float(user_a)\n",
        "        a += number\n",
        "    except ValueError:\n",
        "        print(\"That's not a valid number. Please try again.\")\n",
        "print(f\"The total sum of the numbers you entered is: {a}\")"
      ],
      "metadata": {
        "colab": {
          "base_uri": "https://localhost:8080/",
          "height": 288
        },
        "id": "7Nc95PaiFcHx",
        "outputId": "cd070f24-dcd2-471d-92f7-97c059d0e1b7"
      },
      "execution_count": null,
      "outputs": [
        {
          "name": "stdout",
          "output_type": "stream",
          "text": [
            "Enter numbers to add. Type 'done' when you are finished.\n",
            "Enter a number: 77\n"
          ]
        },
        {
          "output_type": "error",
          "ename": "NameError",
          "evalue": "name 'a' is not defined",
          "traceback": [
            "\u001b[0;31m---------------------------------------------------------------------------\u001b[0m",
            "\u001b[0;31mNameError\u001b[0m                                 Traceback (most recent call last)",
            "\u001b[0;32m<ipython-input-4-662ef4d6d421>\u001b[0m in \u001b[0;36m<cell line: 5>\u001b[0;34m()\u001b[0m\n\u001b[1;32m     10\u001b[0m     \u001b[0;32mtry\u001b[0m\u001b[0;34m:\u001b[0m\u001b[0;34m\u001b[0m\u001b[0;34m\u001b[0m\u001b[0m\n\u001b[1;32m     11\u001b[0m         \u001b[0mnumber\u001b[0m \u001b[0;34m=\u001b[0m \u001b[0mfloat\u001b[0m\u001b[0;34m(\u001b[0m\u001b[0muser_a\u001b[0m\u001b[0;34m)\u001b[0m\u001b[0;34m\u001b[0m\u001b[0;34m\u001b[0m\u001b[0m\n\u001b[0;32m---> 12\u001b[0;31m         \u001b[0ma\u001b[0m \u001b[0;34m+=\u001b[0m \u001b[0mnumber\u001b[0m\u001b[0;34m\u001b[0m\u001b[0;34m\u001b[0m\u001b[0m\n\u001b[0m\u001b[1;32m     13\u001b[0m     \u001b[0;32mexcept\u001b[0m \u001b[0mValueError\u001b[0m\u001b[0;34m:\u001b[0m\u001b[0;34m\u001b[0m\u001b[0;34m\u001b[0m\u001b[0m\n\u001b[1;32m     14\u001b[0m         \u001b[0mprint\u001b[0m\u001b[0;34m(\u001b[0m\u001b[0;34m\"That's not a valid number. Please try again.\"\u001b[0m\u001b[0;34m)\u001b[0m\u001b[0;34m\u001b[0m\u001b[0;34m\u001b[0m\u001b[0m\n",
            "\u001b[0;31mNameError\u001b[0m: name 'a' is not defined"
          ]
        }
      ]
    },
    {
      "cell_type": "code",
      "source": [
        "a=input(\"no\")\n",
        "b=input(\"no\")\n",
        "c=(int(a)+int(b))/2\n",
        "print(\"mean of two given number\",c)"
      ],
      "metadata": {
        "colab": {
          "base_uri": "https://localhost:8080/"
        },
        "id": "FGqNzlZAF38i",
        "outputId": "bf0dd8cc-94d0-47be-c265-dda4678b77db"
      },
      "execution_count": null,
      "outputs": [
        {
          "output_type": "stream",
          "name": "stdout",
          "text": [
            "no3\n",
            "no4\n",
            "mean of two given number 3.5\n"
          ]
        }
      ]
    },
    {
      "cell_type": "code",
      "source": [
        "#even and  odd\n",
        "\n",
        "x=int(input(\"enter a number\" ))\n",
        "if(x%2==0):\n",
        " print(\"number is even\",x)\n",
        "else:\n",
        "  print(\"number is odd\",x)\n"
      ],
      "metadata": {
        "colab": {
          "base_uri": "https://localhost:8080/"
        },
        "id": "wbrY0DAyFus0",
        "outputId": "c101476f-92ae-41b4-d9f0-df0326c0129a"
      },
      "execution_count": null,
      "outputs": [
        {
          "output_type": "stream",
          "name": "stdout",
          "text": [
            "enter a number5\n",
            "number is odd 5\n"
          ]
        }
      ]
    },
    {
      "cell_type": "code",
      "source": [
        "# To find divisible-_--\n",
        "\n",
        "x=int(input(\"enter a number\" ))\n",
        "if(x%3==0):\n",
        " print(\"number is divisible\",x)\n",
        "else:\n",
        "  print(\"number is not divisible\",x)"
      ],
      "metadata": {
        "colab": {
          "base_uri": "https://localhost:8080/"
        },
        "id": "S6quSRYVHtJf",
        "outputId": "5a8143fa-b190-4013-9611-8dc3aedecf94"
      },
      "execution_count": null,
      "outputs": [
        {
          "output_type": "stream",
          "name": "stdout",
          "text": [
            "enter a number4\n",
            "number is not odivisible 4\n"
          ]
        }
      ]
    },
    {
      "cell_type": "code",
      "source": [
        "x=[1,2,3,4,5,6,7,8,9]\n",
        "a=max(x)\n",
        "b=min(x)\n",
        "\n",
        "print(a)\n",
        "print(b)"
      ],
      "metadata": {
        "id": "OnPOt5JCHucX",
        "colab": {
          "base_uri": "https://localhost:8080/"
        },
        "outputId": "51442f55-c21d-4fe9-c48b-05274e126636"
      },
      "execution_count": null,
      "outputs": [
        {
          "output_type": "stream",
          "name": "stdout",
          "text": [
            "9\n",
            "1\n"
          ]
        }
      ]
    },
    {
      "cell_type": "code",
      "source": [
        "import numpy as np\n",
        "import IPython.display as display\n",
        "from matplotlib import pyplot as plt\n",
        "import io\n",
        "import base64\n",
        "\n",
        "ys = 200 + np.random.randn(100)\n",
        "x = [x for x in range(len(ys))]\n",
        "\n",
        "fig = plt.figure(figsize=(4, 3), facecolor='w')\n",
        "plt.plot(x, ys, '-')\n",
        "plt.fill_between(x, ys, 195, where=(ys > 195), facecolor='g', alpha=0.6)\n",
        "plt.title(\"Sample Visualization\", fontsize=10)\n",
        "\n",
        "data = io.BytesIO()\n",
        "plt.savefig(data)\n",
        "image = F\"data:image/png;base64,{base64.b64encode(data.getvalue()).decode()}\"\n",
        "alt = \"Sample Visualization\"\n",
        "display.display(display.Markdown(F\"\"\"![{alt}]({image})\"\"\"))"
      ],
      "metadata": {
        "colab": {
          "base_uri": "https://localhost:8080/",
          "height": 627
        },
        "id": "smr4g2ZGN8eI",
        "outputId": "16606531-1eed-443b-dc3b-82e0c4fcd14d"
      },
      "execution_count": null,
      "outputs": [
        {
          "output_type": "display_data",
          "data": {
            "text/plain": [
              "<IPython.core.display.Markdown object>"
            ],
            "text/markdown": "![Sample Visualization](data:image/png;base64,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)"
          },
          "metadata": {}
        },
        {
          "output_type": "display_data",
          "data": {
            "text/plain": [
              "<Figure size 400x300 with 1 Axes>"
            ],
            "image/png": "[encoded data removed]"
          },
          "metadata": {}
        }
      ]
    },
    {
      "cell_type": "code",
      "source": [
        "import qrcode\n",
        "img=qr.make(\"https://www.bing.com/search?q=google+colab&form=ANSPH1&refig=6f0c648b83e1434c9f5ab0cc398cb91d&pc=U531&pq=google+col&pqlth=10&assgl=12&sgcn=google+colab&qs=AS&smvpcn=0&swbcn=10&sc=10-10&sp=1&ghc=2&cvid=6f0c648b83e1434c9f5ab0cc398cb91d&clckatsg=1&hsmssg=0\")\n",
        "img.save(\"google.png\")"
      ],
      "metadata": {
        "id": "9lRfL-ThOgDq",
        "colab": {
          "base_uri": "https://localhost:8080/",
          "height": 488
        },
        "outputId": "30c0770c-455b-422d-a2c2-be230bbcf7dd"
      },
      "execution_count": null,
      "outputs": [
        {
          "output_type": "error",
          "ename": "ModuleNotFoundError",
          "evalue": "No module named 'qrcode'",
          "traceback": [
            "\u001b[0;31m---------------------------------------------------------------------------\u001b[0m",
            "\u001b[0;31mModuleNotFoundError\u001b[0m                       Traceback (most recent call last)",
            "\u001b[0;32m<ipython-input-3-8e00f24a3ba6>\u001b[0m in \u001b[0;36m<cell line: 1>\u001b[0;34m()\u001b[0m\n\u001b[0;32m----> 1\u001b[0;31m \u001b[0;32mimport\u001b[0m \u001b[0mqrcode\u001b[0m\u001b[0;34m\u001b[0m\u001b[0;34m\u001b[0m\u001b[0m\n\u001b[0m\u001b[1;32m      2\u001b[0m \u001b[0mimg\u001b[0m\u001b[0;34m=\u001b[0m\u001b[0mqr\u001b[0m\u001b[0;34m.\u001b[0m\u001b[0mmake\u001b[0m\u001b[0;34m(\u001b[0m\u001b[0;34m\"https://www.bing.com/search?q=google+colab&form=ANSPH1&refig=6f0c648b83e1434c9f5ab0cc398cb91d&pc=U531&pq=google+col&pqlth=10&assgl=12&sgcn=google+colab&qs=AS&smvpcn=0&swbcn=10&sc=10-10&sp=1&ghc=2&cvid=6f0c648b83e1434c9f5ab0cc398cb91d&clckatsg=1&hsmssg=0\"\u001b[0m\u001b[0;34m)\u001b[0m\u001b[0;34m\u001b[0m\u001b[0;34m\u001b[0m\u001b[0m\n\u001b[1;32m      3\u001b[0m \u001b[0mimg\u001b[0m\u001b[0;34m.\u001b[0m\u001b[0msave\u001b[0m\u001b[0;34m(\u001b[0m\u001b[0;34m\"google.png\"\u001b[0m\u001b[0;34m)\u001b[0m\u001b[0;34m\u001b[0m\u001b[0;34m\u001b[0m\u001b[0m\n",
            "\u001b[0;31mModuleNotFoundError\u001b[0m: No module named 'qrcode'",
            "",
            "\u001b[0;31m---------------------------------------------------------------------------\u001b[0;32m\nNOTE: If your import is failing due to a missing package, you can\nmanually install dependencies using either !pip or !apt.\n\nTo view examples of installing some common dependencies, click the\n\"Open Examples\" button below.\n\u001b[0;31m---------------------------------------------------------------------------\u001b[0m\n"
          ],
          "errorDetails": {
            "actions": [
              {
                "action": "open_url",
                "actionText": "Open Examples",
                "url": "/notebooks/snippets/importing_libraries.ipynb"
              }
            ]
          }
        }
      ]
    },
    {
      "cell_type": "code",
      "source": [
        "a=float(\"2\")\n",
        "b=2.25\n",
        "print(a+b)\n",
        "print(type(b))\n",
        "\n"
      ],
      "metadata": {
        "colab": {
          "base_uri": "https://localhost:8080/"
        },
        "id": "FG4R1TjtAzb8",
        "outputId": "cb8f868b-5e9d-43f4-ef9e-1564ff84ba76"
      },
      "execution_count": null,
      "outputs": [
        {
          "output_type": "stream",
          "name": "stdout",
          "text": [
            "4.25\n",
            "<class 'float'>\n"
          ]
        }
      ]
    },
    {
      "cell_type": "code",
      "source": [
        "str=\"Apna_college\"\n",
        "print(len(str))\n",
        "print(str[3])\n",
        "print(str[4])"
      ],
      "metadata": {
        "colab": {
          "base_uri": "https://localhost:8080/"
        },
        "id": "pbrKA2SFBWL1",
        "outputId": "d71bc549-7f91-4971-a469-b808373ea3d4"
      },
      "execution_count": null,
      "outputs": [
        {
          "output_type": "stream",
          "name": "stdout",
          "text": [
            "12\n",
            "a\n",
            "_\n"
          ]
        }
      ]
    },
    {
      "cell_type": "code",
      "source": [
        "x=int(input(\"enter your age\" ))\n",
        "if(x>=18):\n",
        "  print(\"you can vote\")\n",
        "else:\n",
        "  print(\"you can't vote now\")\n",
        "print(\"Thank you for using our program\")"
      ],
      "metadata": {
        "colab": {
          "base_uri": "https://localhost:8080/"
        },
        "id": "BRHGHrKADJvB",
        "outputId": "86f1d2cf-6b3d-4f7d-fe33-d9fd673890c6"
      },
      "execution_count": null,
      "outputs": [
        {
          "output_type": "stream",
          "name": "stdout",
          "text": [
            "enter your age15\n",
            "you can't vote now\n",
            "Thank you for using our program\n"
          ]
        }
      ]
    },
    {
      "cell_type": "code",
      "source": [
        "marks=[95,94.5,88,34,44,53,24,98,4 ,7,0]\n",
        "print(marks)\n",
        "print(marks[1:7])\n",
        "print(len(marks))\n",
        "print(marks[0:-1])"
      ],
      "metadata": {
        "id": "TFikMBT1Ebi3",
        "colab": {
          "base_uri": "https://localhost:8080/"
        },
        "outputId": "14ec3dab-fe7f-4f11-efde-8ed1e599972f"
      },
      "execution_count": null,
      "outputs": [
        {
          "output_type": "stream",
          "name": "stdout",
          "text": [
            "[95, 94.5, 88, 34, 44, 53, 24, 98, 4, 7, 0]\n",
            "[94.5, 88, 34, 44, 53, 24]\n",
            "11\n",
            "[95, 94.5, 88, 34, 44, 53, 24, 98, 4, 7]\n"
          ]
        }
      ]
    },
    {
      "cell_type": "code",
      "source": [
        "place=[\"vr\",85,'delhi',\"copper\",\"luca\",\"boka\"]\n",
        "print(place[0:4])\n",
        "place[0]=\"vk\"\n",
        "print(place[0:5])"
      ],
      "metadata": {
        "colab": {
          "base_uri": "https://localhost:8080/"
        },
        "id": "BDf5Iq1ZN4Oa",
        "outputId": "56ee29ef-a149-41bc-960c-4575175d6473"
      },
      "execution_count": null,
      "outputs": [
        {
          "output_type": "stream",
          "name": "stdout",
          "text": [
            "['vr', 85, 'delhi', 'copper']\n",
            "['vk', 85, 'delhi', 'copper', 'luca']\n"
          ]
        }
      ]
    },
    {
      "cell_type": "code",
      "source": [
        "tup=(87,98,92,93)\n",
        "print(tup[:4])"
      ],
      "metadata": {
        "colab": {
          "base_uri": "https://localhost:8080/"
        },
        "id": "l4s8SUSTPXK_",
        "outputId": "cfb17454-72a2-4f0a-d861-644de7b3adff"
      },
      "execution_count": null,
      "outputs": [
        {
          "output_type": "stream",
          "name": "stdout",
          "text": [
            "(87, 98, 92, 93)\n"
          ]
        }
      ]
    },
    {
      "cell_type": "code",
      "source": [
        "# Dictionary in python--\n",
        "info={\n",
        "    \"name\":\"vr\",\n",
        "    \"cgpa\":8.3,\n",
        "    \"marks\":[66,78,88,89],\n",
        "}\n",
        "print(info)\n",
        "print(type(info))\n"
      ],
      "metadata": {
        "id": "bN1y3ieqQGDi",
        "colab": {
          "base_uri": "https://localhost:8080/"
        },
        "outputId": "92e8882a-e7dd-484a-9be3-5b0c2e369007"
      },
      "execution_count": null,
      "outputs": [
        {
          "output_type": "stream",
          "name": "stdout",
          "text": [
            "{'name': 'vr', 'cgpa': 8.3, 'marks': [66, 78, 88, 89]}\n",
            "<class 'dict'>\n"
          ]
        }
      ]
    },
    {
      "cell_type": "code",
      "source": [
        "dict=(\"Bihar\",\"patna\",\"danapur\",\"800014\")\n",
        "print(dict)\n",
        "\n",
        "\n"
      ],
      "metadata": {
        "colab": {
          "base_uri": "https://localhost:8080/"
        },
        "id": "hEUAltjnVjSd",
        "outputId": "6121012a-c412-4287-df08-58ba102362b7"
      },
      "execution_count": null,
      "outputs": [
        {
          "output_type": "stream",
          "name": "stdout",
          "text": [
            "('Bihar', 'patna', 'danapur', '800014')\n"
          ]
        }
      ]
    },
    {
      "cell_type": "code",
      "source": [
        "info = {\n",
        "    \"name\": \"vr\",\n",
        "    \"cgpa\": 8.3,\n",
        "    \"marks\": [66, 78, 88, 89],\n",
        "}\n",
        "\n",
        "# Update an existing key\n",
        "# info.update({\"cgpa\": 8.5})\n",
        "\n",
        "# Add a new key-value pair\n",
        "info.update({\"city\": \"Patna\"})\n",
        "info.update({\"state\":\"Bihar\"})\n",
        "print(info)"
      ],
      "metadata": {
        "colab": {
          "base_uri": "https://localhost:8080/"
        },
        "id": "da0u5l1eXX1J",
        "outputId": "23c0b6ff-970a-4021-ce7b-5f8bf6fc479a"
      },
      "execution_count": null,
      "outputs": [
        {
          "output_type": "stream",
          "name": "stdout",
          "text": [
            "{'name': 'vr', 'cgpa': 8.3, 'marks': [66, 78, 88, 89], 'city': 'Patna', 'state': 'Bihar'}\n"
          ]
        }
      ]
    },
    {
      "cell_type": "code",
      "source": [
        "\n",
        "set1=(1,2,3,4,5)\n",
        "set2=(4,5,6,7,8)\n",
        "\n",
        "print(set2)"
      ],
      "metadata": {
        "colab": {
          "base_uri": "https://localhost:8080/"
        },
        "id": "QQnLOSLwYECG",
        "outputId": "0732e4ec-4fcb-48c1-e10e-2a378d8c441e"
      },
      "execution_count": null,
      "outputs": [
        {
          "output_type": "stream",
          "name": "stdout",
          "text": [
            "(4, 5, 6, 7, 8)\n"
          ]
        }
      ]
    },
    {
      "cell_type": "code",
      "source": [
        "val1=int(input(\"enter first number\"))\n",
        "val2=int(input(\"enter second number\"))\n",
        "val3=int(input(\"enter third number\"))\n",
        "\n",
        "# print(val1+val2)\\\n",
        "\n",
        "\n",
        "if(val1>val2 and val1>val3):\n",
        "  print(\"val1 is greater\")\n",
        "elif (val2>val1 and val2>val3):\n",
        "  print(\"val2 is greater\")\n",
        "else:\n",
        "  print(\"val3 is greater\")"
      ],
      "metadata": {
        "colab": {
          "base_uri": "https://localhost:8080/"
        },
        "id": "MhbT16aBZGcH",
        "outputId": "fa8270fe-4ccc-4a76-f20d-c4465d11c86a"
      },
      "execution_count": null,
      "outputs": [
        {
          "output_type": "stream",
          "name": "stdout",
          "text": [
            "enter first number9\n",
            "enter second number0\n",
            "enter third number4\n",
            "val1 is greater\n"
          ]
        }
      ]
    },
    {
      "cell_type": "code",
      "source": [
        "\n",
        "for i in range(1,21):\n",
        " print(i)\n"
      ],
      "metadata": {
        "colab": {
          "base_uri": "https://localhost:8080/"
        },
        "id": "mRlxkcYUad-4",
        "outputId": "52aece64-e345-4d09-c46a-e8b91974d7a5"
      },
      "execution_count": null,
      "outputs": [
        {
          "output_type": "stream",
          "name": "stdout",
          "text": [
            "enter no2\n",
            "1\n",
            "2\n",
            "3\n",
            "4\n",
            "5\n",
            "6\n",
            "7\n",
            "8\n",
            "9\n",
            "10\n",
            "11\n",
            "12\n",
            "13\n",
            "14\n",
            "15\n",
            "16\n",
            "17\n",
            "18\n",
            "19\n",
            "20\n"
          ]
        }
      ]
    },
    {
      "cell_type": "code",
      "source": [
        "#Range Topic"
      ],
      "metadata": {
        "id": "fspSwztubdSe"
      },
      "execution_count": null,
      "outputs": []
    },
    {
      "cell_type": "code",
      "source": [
        "a = int(input(\"Enter the number :\"))\n",
        "if (a > 0):\n",
        "    print(\"{a} is a positive no.\")\n",
        "elif (a < 0):\n",
        "    print(\"{a} is a negative no.\")"
      ],
      "metadata": {
        "colab": {
          "base_uri": "https://localhost:8080/"
        },
        "id": "za8yCRjN65GH",
        "outputId": "d26fcb34-4bd2-42cf-8758-6db0aa6f18f3"
      },
      "execution_count": null,
      "outputs": [
        {
          "output_type": "stream",
          "name": "stdout",
          "text": [
            "Enter the number :5\n",
            "{a} is a positive no.\n"
          ]
        }
      ]
    },
    {
      "cell_type": "code",
      "source": [
        "#Check a leap year---\n",
        "\n",
        "year =int(input(\"enter a year: \"))\n",
        "if(year%4==0):\n",
        "    print(year, \"is leap year\")\n",
        "else:\n",
        "    print(year,\"is not leap year\")"
      ],
      "metadata": {
        "colab": {
          "base_uri": "https://localhost:8080/"
        },
        "id": "aJMw9UpyBW83",
        "outputId": "3fd77584-3780-419e-e51c-e7795098b442"
      },
      "execution_count": null,
      "outputs": [
        {
          "output_type": "stream",
          "name": "stdout",
          "text": [
            "enter a year: 365\n",
            "365 is not leap year\n"
          ]
        }
      ]
    },
    {
      "cell_type": "code",
      "source": [
        "a=int(input(\"enter a number\"))\n",
        "if(a%25==0):\n",
        "  print(\"number is divisible \")\n",
        "else:\n",
        "  print(\"not divisible\")"
      ],
      "metadata": {
        "colab": {
          "base_uri": "https://localhost:8080/"
        },
        "id": "T-wOUHyiCNhZ",
        "outputId": "4131387a-06a0-46d0-9135-2324e0333686"
      },
      "execution_count": null,
      "outputs": [
        {
          "output_type": "stream",
          "name": "stdout",
          "text": [
            "enter a number55\n",
            "not divisible\n"
          ]
        }
      ]
    },
    {
      "cell_type": "code",
      "source": [
        "a=[1,2,3,4,5,6,\"Ram\",\"raj\"]\n",
        "a.append(\"12\")\n",
        "print(a)\n",
        "a.insert(2,\"vr\")\n",
        "# print(a)\n",
        "# a.remove(6)\n",
        "print(a)\n",
        "a.reverse()\n",
        "print(a)\n"
      ],
      "metadata": {
        "colab": {
          "base_uri": "https://localhost:8080/"
        },
        "id": "GBrmCihnDxsg",
        "outputId": "e3f74733-a900-411d-e328-ad0e96f3f3c1"
      },
      "execution_count": null,
      "outputs": [
        {
          "output_type": "stream",
          "name": "stdout",
          "text": [
            "[1, 2, 3, 4, 5, 6, 'Ram', 'raj', '12']\n",
            "[1, 2, 'vr', 3, 4, 5, 6, 'Ram', 'raj', '12']\n",
            "['12', 'raj', 'Ram', 6, 5, 4, 3, 'vr', 2, 1]\n"
          ]
        }
      ]
    },
    {
      "cell_type": "code",
      "source": [
        "x=int(input(\"enter a number\"))\n",
        "if(x%2==0):\n",
        "  print(\"number is divisible\",2)\n",
        "elif(x%3==0):\n",
        "  print(\"number is divisible\",3)\n",
        "else:\n",
        "\n",
        "  print(\"number is not divisible\")"
      ],
      "metadata": {
        "colab": {
          "base_uri": "https://localhost:8080/"
        },
        "id": "VDo0iW8aLNiV",
        "outputId": "1d2ec4c1-df88-4b51-fefc-8aa3229a1af9"
      },
      "execution_count": null,
      "outputs": [
        {
          "output_type": "stream",
          "name": "stdout",
          "text": [
            "enter a number85\n",
            "number is not divisible\n"
          ]
        }
      ]
    },
    {
      "cell_type": "code",
      "source": [
        "x=[1,2,3,4,5,6,7,8,9]\n",
        "print(x[:6])\n",
        "print(x[-1:-6])\n",
        "print(x[0:4])\n",
        "print(x[-3:-1])"
      ],
      "metadata": {
        "colab": {
          "base_uri": "https://localhost:8080/"
        },
        "id": "A3hjgZWKNv0u",
        "outputId": "62cd6358-c62f-4408-d357-13872ee74719"
      },
      "execution_count": null,
      "outputs": [
        {
          "output_type": "stream",
          "name": "stdout",
          "text": [
            "[1, 2, 3, 4, 5, 6]\n",
            "[]\n",
            "[1, 2, 3, 4]\n",
            "[7, 8]\n"
          ]
        }
      ]
    },
    {
      "cell_type": "code",
      "source": [
        "year=2024\n",
        "if(year%4==0):\n",
        "  print(\"leap year\")\n",
        "else:\n",
        "  print(\"not leap year\")"
      ],
      "metadata": {
        "colab": {
          "base_uri": "https://localhost:8080/"
        },
        "id": "txBKSvV3PSJU",
        "outputId": "a217c448-c35c-4d79-80f7-00cf8c7ecdfb"
      },
      "execution_count": null,
      "outputs": [
        {
          "output_type": "stream",
          "name": "stdout",
          "text": [
            "not leap year\n"
          ]
        }
      ]
    },
    {
      "cell_type": "code",
      "source": [
        "import datetime\n",
        "\n",
        "today=datetime.date.today()\n",
        "print(str(today))\n",
        "print(today.day)\n",
        "print(today.month)\n",
        "print(today.year)\n",
        "\n",
        "from datetime import datetime\n",
        "current_datetime=datetime.now().time()\n",
        "print(current_datetime)"
      ],
      "metadata": {
        "colab": {
          "base_uri": "https://localhost:8080/"
        },
        "id": "G7s_9fqKA2ba",
        "outputId": "7c883fb4-f6aa-4d8d-9539-d91598b3e709"
      },
      "execution_count": null,
      "outputs": [
        {
          "output_type": "stream",
          "name": "stdout",
          "text": [
            "2024-12-16\n",
            "16\n",
            "12\n",
            "2024\n",
            "04:50:19.594507\n"
          ]
        }
      ]
    },
    {
      "cell_type": "code",
      "source": [
        "a=(input(\"Enter a word :\"))\n",
        "\n",
        "reverse =a[::-1]\n",
        "if (a==reverse):\n",
        "    print(a, \"is a palindrome\")\n",
        "else:\n",
        "    print(a, \"is not a palindrome\")"
      ],
      "metadata": {
        "colab": {
          "base_uri": "https://localhost:8080/"
        },
        "id": "bD3AaDYXC25b",
        "outputId": "ff025fc4-70b9-4285-ee41-b33873b3c5bd"
      },
      "execution_count": null,
      "outputs": [
        {
          "output_type": "stream",
          "name": "stdout",
          "text": [
            "Enter a word :12222221\n",
            "12222221 is a palindrome\n"
          ]
        }
      ]
    },
    {
      "cell_type": "code",
      "source": [
        "a=()\n",
        "print(a)\n",
        "print(type(a))"
      ],
      "metadata": {
        "colab": {
          "base_uri": "https://localhost:8080/"
        },
        "id": "LEpz-S7lEoav",
        "outputId": "46125574-7209-4216-bf0b-300ba3918ab4"
      },
      "execution_count": null,
      "outputs": [
        {
          "output_type": "stream",
          "name": "stdout",
          "text": [
            "()\n",
            "<class 'tuple'>\n"
          ]
        }
      ]
    },
    {
      "cell_type": "code",
      "source": [
        "marks=int(input(\"ENTER YOUR MARKS:\"))\n",
        "if(marks<=100 and marks>=90):\n",
        "  print(\"A,YOU GOT\")\n",
        "elif(marks<=89 and marks>=80):\n",
        "   print(\"B,YOU GOT\")\n",
        "elif(marks<=79 and marks>=70):\n",
        "   print(\"C,YOU GOT\")\n",
        "elif(marks<=69 and  marks>=60):\n",
        "   print(\"D,YOU GOT\")\n",
        "elif(marks<=59 and marks>=50):\n",
        "  print(\"E, YOU GOT DO HARDWORK\")\n",
        "elif(marks<=49 and marks>=40):\n",
        "  print(\"F, TU BACHGaYA FAIL HONA SA\")\n",
        "else:\n",
        "  print(\"FAIL TRY NEXT YEAR\")\n"
      ],
      "metadata": {
        "colab": {
          "base_uri": "https://localhost:8080/"
        },
        "id": "mTPwRo30FMZA",
        "outputId": "8a3b388d-465a-4f33-d8a1-22676af61a9b"
      },
      "execution_count": null,
      "outputs": [
        {
          "output_type": "stream",
          "name": "stdout",
          "text": [
            "ENTER YOUR MARKS:48\n",
            "F, TU BACHGaYA FAIL HONA SA\n"
          ]
        }
      ]
    },
    {
      "cell_type": "code",
      "source": [
        "def is_equilateral(a, b, c):\n",
        "  \"\"\"\n",
        "  This function takes the lengths of the three sides of a triangle and returns True if it is equilateral, False otherwise.\n",
        "  \"\"\"\n",
        "  return a == b == c\n",
        "\n",
        "# Example usage\n",
        "side1 = float(input(\"Enter the length of the first side: \"))\n",
        "side2 = float(input(\"Enter the length of the second side: \"))\n",
        "side3 = float(input(\"Enter the length of the third side: \"))\n",
        "\n",
        "if is_equilateral(side1, side2, side3):\n",
        "  print(\"The triangle is equilateral.\")\n",
        "else:\n",
        "  print(\"The triangle is not equilateral.\")"
      ],
      "metadata": {
        "id": "jwzuc5EeJj_j"
      },
      "execution_count": null,
      "outputs": []
    },
    {
      "cell_type": "code",
      "source": [
        "a=2.23\n",
        "print(type(a))"
      ],
      "metadata": {
        "colab": {
          "base_uri": "https://localhost:8080/"
        },
        "id": "TBulJE2kKaax",
        "outputId": "bc897e4d-c8f9-48b6-9d74-81d8dc656a5a"
      },
      "execution_count": null,
      "outputs": [
        {
          "output_type": "stream",
          "name": "stdout",
          "text": [
            "<class 'float'>\n"
          ]
        }
      ]
    },
    {
      "cell_type": "code",
      "source": [
        "side1=float(input(\"Enter the length of 1st side\"))\n",
        "side2=float(input(\"Enter the length of 2nd side\"))\n",
        "side3=float(input(\"Enter the length of 3rd side\"))\n",
        "if(side1==side2==side3):\n",
        "  print(\"equilateral triangle\")\n",
        "else:\n",
        "  print(\"not equilateral\")"
      ],
      "metadata": {
        "colab": {
          "base_uri": "https://localhost:8080/"
        },
        "id": "IF8GyuNdKnYq",
        "outputId": "4bbe414d-adbf-4fd9-cc98-c8ff57770f06"
      },
      "execution_count": null,
      "outputs": [
        {
          "output_type": "stream",
          "name": "stdout",
          "text": [
            "Enter the length of 1st side2\n",
            "Enter the length of 2nd side4\n",
            "Enter the length of 3rd side5\n",
            "not equilateral\n"
          ]
        }
      ]
    },
    {
      "cell_type": "code",
      "source": [
        "side1=float(input(\"Enter the length of 1st side\"))\n",
        "side2=float(input(\"Enter the length of 2nd side\"))\n",
        "side3=float(input(\"Enter the length of 3rd side\"))\n",
        "if(side1==side2)or (side1==side3) or(side2==side3):\n",
        "  print(\"Isosceles triangle\")\n",
        "else:\n",
        "  print(\"not ISo\")"
      ],
      "metadata": {
        "colab": {
          "base_uri": "https://localhost:8080/"
        },
        "id": "i0nDKezQLGcv",
        "outputId": "ed523393-fdde-4580-b571-d3d5eb23da50"
      },
      "execution_count": null,
      "outputs": [
        {
          "output_type": "stream",
          "name": "stdout",
          "text": [
            "Enter the length of 1st side2\n",
            "Enter the length of 2nd side2\n",
            "Enter the length of 3rd side2\n",
            "Isosceles triangle\n"
          ]
        }
      ]
    },
    {
      "cell_type": "code",
      "source": [
        "side1=float(input(\"Enter the length of 1st side\"))\n",
        "side2=float(input(\"Enter the length of 2nd side\"))\n",
        "side3=float(input(\"Enter the length of 3rd side\"))\n",
        "if(side1!=side2!=side3):\n",
        "  print(\" SCALENE triangle\")\n",
        "else:\n",
        "  print(\"not SCALENE\")"
      ],
      "metadata": {
        "colab": {
          "base_uri": "https://localhost:8080/"
        },
        "id": "tsqbGq2kMBD4",
        "outputId": "2720fc4c-eb7a-4205-e157-1ccf968a2a5b"
      },
      "execution_count": null,
      "outputs": [
        {
          "output_type": "stream",
          "name": "stdout",
          "text": [
            "Enter the length of 1st side2\n",
            "Enter the length of 2nd side3\n",
            "Enter the length of 3rd side4\n",
            " SCALENE triangle\n"
          ]
        }
      ]
    },
    {
      "cell_type": "code",
      "source": [
        "side1=float(input(\"Enter the length of 1st side\"))\n",
        "side2=float(input(\"Enter the length of 2nd side\"))\n",
        "side3=float(input(\"Enter the length of 3rd side\"))\n",
        "if(side1!=side2!=side3):\n",
        "  print(\" SCALENE triangle\")\n",
        "else:\n",
        "  print(\"not SCALENE\")\n",
        "\n",
        "if(side1==side2)or (side1==side3) or(side2==side3):\n",
        "  print(\"Isosceles triangle\")\n",
        "else:\n",
        "  print(\"not ISo\")\n",
        "\n",
        "if(side1==side2==side3):\n",
        "  print(\"equilateral triangle\")\n",
        "else:\n",
        "  print(\"not equilateral\")"
      ],
      "metadata": {
        "colab": {
          "base_uri": "https://localhost:8080/"
        },
        "id": "dbi146bXNO18",
        "outputId": "7eaf5351-af66-464e-9184-544d1b5bb16f"
      },
      "execution_count": null,
      "outputs": [
        {
          "output_type": "stream",
          "name": "stdout",
          "text": [
            "Enter the length of 1st side8\n",
            "Enter the length of 2nd side9\n",
            "Enter the length of 3rd side0\n",
            " SCALENE triangle\n",
            "not ISo\n",
            "not equilateral\n"
          ]
        }
      ]
    },
    {
      "cell_type": "code",
      "source": [
        "\n",
        "n=int(input(\"enter a number\"))\n",
        "for i in range(1,21):\n",
        "  print(n,\"*\",i,\"=\",n*i)"
      ],
      "metadata": {
        "id": "Szv0FN4yOBB2"
      },
      "execution_count": null,
      "outputs": []
    },
    {
      "cell_type": "code",
      "source": [
        "n=int(input(\"enter a number\"))\n",
        "for i in range(1,21):\n",
        "  print(f\"{n}x{i}={n*i}\")"
      ],
      "metadata": {
        "id": "bSz5WRlmPon7"
      },
      "execution_count": null,
      "outputs": []
    },
    {
      "cell_type": "code",
      "source": [
        "distance=float(input(\"HOW MANY KM YOU WNAT TO GO?\"))\n",
        "fare=20\n",
        "if distance > 0 and distance <=5:\n",
        "  taxi_fare=fare+distance*1\n",
        "  print(f\" taxi fare is ₹{taxi_fare}\")\n",
        "elif distance > 5 and distance <=20:\n",
        "  taxi_fare=fare+(distance-5)*3\n",
        "  print(f\" taxi fare is ₹{taxi_fare}\")\n",
        "elif distance > 20 :\n",
        "  taxi_fare=fare+(distance-20)*2\n",
        "  print(f\" taxi fare is ₹{taxi_fare}\")\n",
        "else:\n",
        "  print(\"print Total FARE IS:\"),fare\n"
      ],
      "metadata": {
        "id": "W5a5LmSlSu9G",
        "colab": {
          "base_uri": "https://localhost:8080/"
        },
        "outputId": "6504f929-e307-446c-d28b-b6f397ec3236"
      },
      "execution_count": null,
      "outputs": [
        {
          "output_type": "stream",
          "name": "stdout",
          "text": [
            "HOW MANY KM YOU WNAT TO GO?45\n",
            " taxi fare is ₹70.0\n"
          ]
        }
      ]
    },
    {
      "cell_type": "code",
      "source": [
        "import sys\n",
        "tuple = (\"A\" ,1 ,2, 3, 4, 5, \"B\")\n",
        "print (\"size of tuple:\"+str(sys.getsizeof(tuple)) +\"bytes\")"
      ],
      "metadata": {
        "colab": {
          "base_uri": "https://localhost:8080/"
        },
        "id": "O0LR30gnu5de",
        "outputId": "7661b994-4ca1-4659-b0ea-41a7b9c62dc5"
      },
      "execution_count": null,
      "outputs": [
        {
          "output_type": "stream",
          "name": "stdout",
          "text": [
            "size of tuple:96bytes\n"
          ]
        }
      ]
    },
    {
      "cell_type": "code",
      "source": [
        "#a=distance\n",
        "#fare=20 for 5 KM or less than.\n",
        "#fare =20 *3 for <20\n",
        "#fare=20 *2 >20\n",
        "\n",
        "a = int(input(\"Enter the distance covered: \"))\n",
        "\n",
        "if (a<=5):\n",
        "  fare = 20\n",
        "elif (5<a<=20):\n",
        "  fare = 20 + (a-5)*3\n",
        "elif (a>20):\n",
        "  fare = 20  + (a-20)*2\n",
        "\n",
        "print(f\"The total Fare is: Rs {fare}\")\n",
        "\n"
      ],
      "metadata": {
        "colab": {
          "base_uri": "https://localhost:8080/"
        },
        "id": "HVE-ko8jwQQ4",
        "outputId": "b60e5f7b-0de7-4158-996c-91c12c8eacd1"
      },
      "execution_count": null,
      "outputs": [
        {
          "output_type": "stream",
          "name": "stdout",
          "text": [
            "Enter the distance covered: 45\n",
            "The total Fare is: Rs 70\n"
          ]
        }
      ]
    },
    {
      "cell_type": "code",
      "source": [
        "hulk={\"color\":\"green\",\"power\":10000,\"age\":45}\n",
        "print(hulk[\"color\"])\n",
        "print(hulk[\"power\"])\n",
        "print(hulk[\"age\"])\n"
      ],
      "metadata": {
        "id": "cWEQ21Efx-E1",
        "colab": {
          "base_uri": "https://localhost:8080/"
        },
        "outputId": "6325c468-f81f-4cc2-9232-01beaf7347a5"
      },
      "execution_count": null,
      "outputs": [
        {
          "output_type": "stream",
          "name": "stdout",
          "text": [
            "green\n",
            "100\n",
            "45\n"
          ]
        }
      ]
    },
    {
      "cell_type": "code",
      "source": [
        "a={\"name\":\"victor\",\n",
        "   \"age\":[120],\n",
        "   \"from\":\"india\"}\n",
        "print(a)\n",
        "print(type(a))\n",
        "print(a[\"name\"])\n",
        "print(a[\"age\"])\n",
        "print(a[\"from\"])"
      ],
      "metadata": {
        "id": "EygMsAL_xEf9",
        "colab": {
          "base_uri": "https://localhost:8080/"
        },
        "outputId": "4b1f58d4-d084-4d73-8556-f8f712ab6cd6"
      },
      "execution_count": null,
      "outputs": [
        {
          "output_type": "stream",
          "name": "stdout",
          "text": [
            "{'name': 'victor', 'age': [120], 'from': 'india'}\n",
            "<class 'dict'>\n",
            "victor\n",
            "[120]\n",
            "india\n"
          ]
        }
      ]
    },
    {
      "cell_type": "code",
      "source": [
        "\n",
        "for i in range(1,11):\n",
        "    print(i**2)\n"
      ],
      "metadata": {
        "id": "bk8trKNFIMvj"
      },
      "execution_count": null,
      "outputs": []
    },
    {
      "cell_type": "code",
      "source": [
        "print('Hello'),'\\n',print('World')"
      ],
      "metadata": {
        "colab": {
          "base_uri": "https://localhost:8080/"
        },
        "id": "oDDVvbBFHvB7",
        "outputId": "bda3e2ae-501b-43f6-b3f2-c0e8d553b22f"
      },
      "execution_count": null,
      "outputs": [
        {
          "output_type": "stream",
          "name": "stdout",
          "text": [
            "Hello\n",
            "World\n"
          ]
        },
        {
          "output_type": "execute_result",
          "data": {
            "text/plain": [
              "(None, '\\n', None)"
            ]
          },
          "metadata": {},
          "execution_count": 35
        }
      ]
    },
    {
      "cell_type": "code",
      "source": [
        "for i in range(5):\n",
        "  print(i**2,end=\" \")"
      ],
      "metadata": {
        "colab": {
          "base_uri": "https://localhost:8080/"
        },
        "id": "GPEqwV2VJD73",
        "outputId": "83b36201-d96f-4a58-ab1a-37050f17af7d"
      },
      "execution_count": null,
      "outputs": [
        {
          "output_type": "stream",
          "name": "stdout",
          "text": [
            "0 1 4 9 16 "
          ]
        }
      ]
    },
    {
      "cell_type": "code",
      "source": [
        "for character in \"भारत\":\n",
        "  print(character,end=\" \")\n",
        "\n",
        "  #end=\" \"use  for write in horizontal भ ा र त"
      ],
      "metadata": {
        "colab": {
          "base_uri": "https://localhost:8080/"
        },
        "id": "W86okgupJaiK",
        "outputId": "2ef54cd4-b4ac-4468-a812-23a05ceea503"
      },
      "execution_count": null,
      "outputs": [
        {
          "output_type": "stream",
          "name": "stdout",
          "text": [
            "भ ा र त "
          ]
        }
      ]
    },
    {
      "cell_type": "code",
      "source": [
        "num=[10,15,20,25,30]\n",
        "odd_num=[]\n",
        "for i in num:\n",
        "  if i%2!=0:\n",
        "    odd_num.append(i)\n",
        "    print(odd_num)\n",
        "\n"
      ],
      "metadata": {
        "colab": {
          "base_uri": "https://localhost:8080/"
        },
        "id": "ye7i8862J84f",
        "outputId": "ce05613d-935e-435e-a6b3-c7195f234198"
      },
      "execution_count": null,
      "outputs": [
        {
          "output_type": "stream",
          "name": "stdout",
          "text": [
            "[15, 30]\n"
          ]
        }
      ]
    },
    {
      "cell_type": "code",
      "source": [
        "\n",
        "list=[1,3,5,7,9]\n",
        "sq_list=[]\n",
        "for i in list:\n",
        "  if i%2!=0:\n",
        "   Square=i**2\n",
        "   sq_list.append(Square)\n",
        "print(sq_list)\n"
      ],
      "metadata": {
        "colab": {
          "base_uri": "https://localhost:8080/"
        },
        "id": "ysQ7ZhCONCN6",
        "outputId": "24fbfd1c-dadf-4947-f55c-6a57f98df48d"
      },
      "execution_count": null,
      "outputs": [
        {
          "output_type": "stream",
          "name": "stdout",
          "text": [
            "[1, 9, 25, 49, 81]\n"
          ]
        }
      ]
    },
    {
      "cell_type": "code",
      "source": [
        "num=[1,2,3,4,5,6,7,8,9,10]\n",
        "odd_num_square=[]\n",
        "for x in num:\n",
        "  if x%2!=0:\n",
        "    odd_num_square.append(x**2)\n",
        "  print(odd_num_square)\n",
        "else:\n",
        "  even_num_square=[]\n",
        "  for x in num:\n",
        "    if x%2==0:\n",
        "      even_num_square.append(x**2)\n",
        "      print(even_num_square)"
      ],
      "metadata": {
        "colab": {
          "base_uri": "https://localhost:8080/"
        },
        "id": "5E-hpsWdPBXc",
        "outputId": "a94330f3-7991-4bf1-af81-ae9af5470cd6"
      },
      "execution_count": null,
      "outputs": [
        {
          "output_type": "stream",
          "name": "stdout",
          "text": [
            "[1]\n",
            "[1]\n",
            "[1, 9]\n",
            "[1, 9]\n",
            "[1, 9, 25]\n",
            "[1, 9, 25]\n",
            "[1, 9, 25, 49]\n",
            "[1, 9, 25, 49]\n",
            "[1, 9, 25, 49, 81]\n",
            "[1, 9, 25, 49, 81]\n",
            "[4]\n",
            "[4, 16]\n",
            "[4, 16, 36]\n",
            "[4, 16, 36, 64]\n",
            "[4, 16, 36, 64, 100]\n"
          ]
        }
      ]
    },
    {
      "cell_type": "code",
      "source": [
        "x=5\n",
        "while x<10:\n",
        "  print(x ,end=\" \")\n",
        "  x+=1\n",
        "  print(\"end \")"
      ],
      "metadata": {
        "colab": {
          "base_uri": "https://localhost:8080/"
        },
        "id": "sf1bwLg_RWbX",
        "outputId": "611ab7c0-d02f-4550-bfe5-f69c3dbf2c7e"
      },
      "execution_count": null,
      "outputs": [
        {
          "output_type": "stream",
          "name": "stdout",
          "text": [
            "5 end \n",
            "6 end \n",
            "7 end \n",
            "8 end \n",
            "9 end \n"
          ]
        }
      ]
    },
    {
      "cell_type": "code",
      "source": [
        "password=input(\"Enter Your password :\")\n",
        "if password ==\"victor81\":\n",
        "  print(\"your password correct\")\n",
        "else:\n",
        "  print(\" PASSWORD IS INCORRECT,SAHI lik\")"
      ],
      "metadata": {
        "colab": {
          "base_uri": "https://localhost:8080/"
        },
        "id": "Hf24A6FQTpQI",
        "outputId": "bbba5886-a0b0-4c82-c123-83645b0fc373"
      },
      "execution_count": null,
      "outputs": [
        {
          "output_type": "stream",
          "name": "stdout",
          "text": [
            "Eneter Your password :tt\n",
            " PASSWORD IS INCORRECT,SAHI ENTER lik\n"
          ]
        }
      ]
    },
    {
      "cell_type": "code",
      "source": [
        "password=\" \"\n",
        "while password!=\"vr81\":\n",
        "  print(\"password id wrong ,try a new one\")\n",
        "  password=input(\"enter your password:\")\n",
        "print(\"password is correct\")\n",
        "print(\"Access granted !\")"
      ],
      "metadata": {
        "colab": {
          "base_uri": "https://localhost:8080/"
        },
        "id": "GxH41yhnVns3",
        "outputId": "408c0a29-e4ed-48f8-d2a7-ad616caa9f23"
      },
      "execution_count": null,
      "outputs": [
        {
          "output_type": "stream",
          "name": "stdout",
          "text": [
            "password id wrong ,try a new one\n",
            "enter your password:Vty\n",
            "password id wrong ,try a new one\n",
            "enter your password:vr81\n",
            "password is correct\n",
            "Access granted !\n"
          ]
        }
      ]
    },
    {
      "cell_type": "code",
      "source": [
        "total=0\n",
        "num=int (input(\"enter a number(0 to stop):\"))\n",
        "while num!=0:\n",
        "  total+=num\n",
        "  num=int(input(\"enter a number(0 to stop)\"))\n",
        "print(\"total=\",total)"
      ],
      "metadata": {
        "colab": {
          "base_uri": "https://localhost:8080/"
        },
        "id": "-58VpY3FXKlz",
        "outputId": "fc65fb0b-3f8e-4bfe-adf5-c21442f13e9f"
      },
      "execution_count": null,
      "outputs": [
        {
          "output_type": "stream",
          "name": "stdout",
          "text": [
            "enter a number(0 to stop):0000\n",
            "total= 0\n"
          ]
        }
      ]
    },
    {
      "cell_type": "code",
      "source": [
        "num=int(input(\"enter no-\"))\n",
        "while num !=1:\n",
        " print(num , end=\"->\")\n",
        " if num %2 == 0:\n",
        "    num= num // 2\n",
        " else:\n",
        "   num= 3 * num + 1\n",
        " print(num)\n"
      ],
      "metadata": {
        "id": "VaOcFpXuX6_S",
        "colab": {
          "base_uri": "https://localhost:8080/"
        },
        "outputId": "5fd22ab7-9d0c-4cd9-eb93-fb4b9022dc1a"
      },
      "execution_count": null,
      "outputs": [
        {
          "output_type": "stream",
          "name": "stdout",
          "text": [
            "enter no-7\n",
            "7->22\n",
            "22->11\n",
            "11->34\n",
            "34->17\n",
            "17->52\n",
            "52->26\n",
            "26->13\n",
            "13->40\n",
            "40->20\n",
            "20->10\n",
            "10->5\n",
            "5->16\n",
            "16->8\n",
            "8->4\n",
            "4->2\n",
            "2->1\n"
          ]
        }
      ]
    },
    {
      "cell_type": "code",
      "source": [
        "x=[10,20,30,40,50]\n",
        "# Check if sum is of type int. If it is, delete it\n",
        "#if type(sum) == int:\n",
        "    #del sum\n",
        "mean=sum(x)/len(x)\n",
        "print(mean)"
      ],
      "metadata": {
        "colab": {
          "base_uri": "https://localhost:8080/"
        },
        "id": "II4nEDk8FcxJ",
        "outputId": "ea816330-78d4-4b92-e2d6-7848ad8b0358"
      },
      "execution_count": null,
      "outputs": [
        {
          "output_type": "stream",
          "name": "stdout",
          "text": [
            "30.0\n"
          ]
        }
      ]
    },
    {
      "cell_type": "code",
      "source": [
        "x=[10,20,30,40,50]\n",
        "mean=sum(x)/len(x)\n",
        "print(mean)"
      ],
      "metadata": {
        "colab": {
          "base_uri": "https://localhost:8080/"
        },
        "id": "al0aKeS2HOgS",
        "outputId": "6edeaba2-849d-43ac-da85-9157395b5262"
      },
      "execution_count": null,
      "outputs": [
        {
          "output_type": "stream",
          "name": "stdout",
          "text": [
            "30.0\n"
          ]
        }
      ]
    },
    {
      "cell_type": "code",
      "source": [
        "num=[5,10,25,20,25]\n",
        "total=sum(num)\n",
        "print(total)\n",
        "mean=total/len(num)\n",
        "print(mean)\n",
        "\n",
        "\n",
        "\n",
        "\n",
        "\n"
      ],
      "metadata": {
        "colab": {
          "base_uri": "https://localhost:8080/"
        },
        "id": "Q26xzTTjHZPO",
        "outputId": "865bce99-ff08-4184-b8db-74ffa5535d9d"
      },
      "execution_count": null,
      "outputs": [
        {
          "output_type": "stream",
          "name": "stdout",
          "text": [
            "85\n",
            "17.0\n",
            "17\n"
          ]
        }
      ]
    },
    {
      "cell_type": "code",
      "source": [
        "\n",
        "a=[5,10,25,20,25]\n",
        "median=a[len(a)//2]\n",
        "print(median)"
      ],
      "metadata": {
        "colab": {
          "base_uri": "https://localhost:8080/"
        },
        "id": "KzCg4QspJlNF",
        "outputId": "933342a4-3a85-4663-d791-68e03d632b43"
      },
      "execution_count": null,
      "outputs": [
        {
          "output_type": "stream",
          "name": "stdout",
          "text": [
            "25\n"
          ]
        }
      ]
    },
    {
      "cell_type": "code",
      "source": [
        "def find_mean(num):\n",
        "    mean = sum(num)/len(num)\n",
        "    return mean\n",
        "\n",
        "inp_string= input(\"Enter the numbers separated by spaces: \")\n",
        "num_strings = inp_string.split() #_-_\n",
        "# X = []\n",
        "# for i in num_strings:\n",
        "#     i = float(i)\n",
        "#     X.append(i)\n",
        "\n",
        "X=[float(num) for num in num_strings]\n",
        "\n",
        "mean = find_mean(X)\n",
        "print(f\"Mean for the entered numbers is: {mean}\")"
      ],
      "metadata": {
        "colab": {
          "base_uri": "https://localhost:8080/"
        },
        "id": "1TgkcH4gKoeu",
        "outputId": "aefde50b-75f6-4d0b-f435-ff0d170d7446"
      },
      "execution_count": null,
      "outputs": [
        {
          "output_type": "stream",
          "name": "stdout",
          "text": [
            "Enter the numbers separated by spaces: 5 10 13 20 25 30\n",
            "Mean for the entered numbers is: 15.0\n"
          ]
        }
      ]
    },
    {
      "cell_type": "code",
      "source": [
        "# import datetime\n",
        "# today=datetime.date.today()\n",
        "# print(str(today))\n",
        "\n",
        "\n",
        "\n",
        "from datetime import datetime\n",
        "current_datetime=datetime.now().time()\n",
        "print(current_datetime)"
      ],
      "metadata": {
        "colab": {
          "base_uri": "https://localhost:8080/"
        },
        "id": "wi6A7r0eTNMh",
        "outputId": "edf6c40f-b3cd-4baf-d258-f04e5cc51357"
      },
      "execution_count": null,
      "outputs": [
        {
          "output_type": "stream",
          "name": "stdout",
          "text": [
            "07:03:44.035849\n"
          ]
        }
      ]
    },
    {
      "cell_type": "code",
      "source": [
        "def find_median(num):\n",
        "    num.sort()\n",
        "    if len(num) % 2 == 0:\n",
        "        median = (num[len(num)//2] + num[len(num)//2 - 1])/2\n",
        "    else:\n",
        "        median = num[len(num)//2]\n",
        "    return median\n",
        "\n",
        "inp_string = input(\"Enter the numbers separated by spaces: \")\n",
        "num_strings = inp_string.split()\n",
        "X = []\n",
        "for i in num_strings:\n",
        "    i = float(i)\n",
        "    X.append(i)\n",
        "\n",
        "median = find_median(X)\n",
        "print(f\"Median for the entered numbers is: {median}\")"
      ],
      "metadata": {
        "colab": {
          "base_uri": "https://localhost:8080/"
        },
        "id": "uHPMk4hDO6vo",
        "outputId": "38112a04-5d7a-4ffa-f4c0-d57c5c968058"
      },
      "execution_count": null,
      "outputs": [
        {
          "output_type": "stream",
          "name": "stdout",
          "text": [
            "Enter the numbers separated by spaces: 5 10 15 20 25 30\n",
            "Median for the entered numbers is: 17.5\n"
          ]
        }
      ]
    },
    {
      "cell_type": "code",
      "source": [
        "import statistics\n",
        "x=[5,10,25,20,25]\n",
        "mean=statistics.mean(x)\n",
        "print(mean)"
      ],
      "metadata": {
        "colab": {
          "base_uri": "https://localhost:8080/"
        },
        "id": "273lZ6tSOxWl",
        "outputId": "4d2e5a42-bf68-41ce-b118-6cba4fea56a9"
      },
      "execution_count": null,
      "outputs": [
        {
          "output_type": "stream",
          "name": "stdout",
          "text": [
            "17\n"
          ]
        }
      ]
    },
    {
      "cell_type": "code",
      "source": [
        "data=[10,20,30,40]\n",
        "freq= [2,3,1,4]\n",
        "df_sum=sum(data[i]*freq[i] for i in range(len(data)))\n",
        "mean=df_sum//sum(freq)\n",
        "print(mean)"
      ],
      "metadata": {
        "colab": {
          "base_uri": "https://localhost:8080/"
        },
        "id": "jtY9HXsmWxMb",
        "outputId": "8e44ac70-38c3-4184-f6ed-c31f624a7fc6"
      },
      "execution_count": null,
      "outputs": [
        {
          "output_type": "stream",
          "name": "stdout",
          "text": [
            "27\n"
          ]
        }
      ]
    },
    {
      "cell_type": "code",
      "source": [
        "def find_mean(num):\n",
        " mean=sum(num)/len(num)\n",
        " return mean\n",
        "input_string =input(\"ENTER-\")\n",
        "num_string=input_string.split()\n",
        "x=[float (num) for num in num_string]\n",
        "\n",
        "mean=find_mean(x)\n",
        "print(f\"mean for the entered numbers is:{mean}\")"
      ],
      "metadata": {
        "id": "T_6wD95qWkkb",
        "colab": {
          "base_uri": "https://localhost:8080/"
        },
        "outputId": "aefb49dc-bbf9-494b-d9e8-b75af7fcc7d6"
      },
      "execution_count": null,
      "outputs": [
        {
          "output_type": "stream",
          "name": "stdout",
          "text": [
            "ENTER-2 3 4 45 6\n",
            "mean for the entered numbers is:12.0\n"
          ]
        }
      ]
    },
    {
      "cell_type": "code",
      "source": [
        "import calendar\n",
        "\n",
        "# Input year and month\n",
        "year = 2025\n",
        "month =2\n",
        "\n",
        "# Display the calendar for the given month and year\n",
        "print(calendar.month(year , month))\n",
        "print(calendar.calendar(year))\n",
        "\n",
        "\n",
        "\n",
        "\n",
        "\n",
        "\n"
      ],
      "metadata": {
        "id": "kMEi91IKYonP",
        "colab": {
          "base_uri": "https://localhost:8080/"
        },
        "outputId": "2e53cb57-312e-4a70-fa90-ffe012493034"
      },
      "execution_count": null,
      "outputs": [
        {
          "output_type": "stream",
          "name": "stdout",
          "text": [
            "   February 2025\n",
            "Mo Tu We Th Fr Sa Su\n",
            "                1  2\n",
            " 3  4  5  6  7  8  9\n",
            "10 11 12 13 14 15 16\n",
            "17 18 19 20 21 22 23\n",
            "24 25 26 27 28\n",
            "\n",
            "                                  2025\n",
            "\n",
            "      January                   February                   March\n",
            "Mo Tu We Th Fr Sa Su      Mo Tu We Th Fr Sa Su      Mo Tu We Th Fr Sa Su\n",
            "       1  2  3  4  5                      1  2                      1  2\n",
            " 6  7  8  9 10 11 12       3  4  5  6  7  8  9       3  4  5  6  7  8  9\n",
            "13 14 15 16 17 18 19      10 11 12 13 14 15 16      10 11 12 13 14 15 16\n",
            "20 21 22 23 24 25 26      17 18 19 20 21 22 23      17 18 19 20 21 22 23\n",
            "27 28 29 30 31            24 25 26 27 28            24 25 26 27 28 29 30\n",
            "                                                    31\n",
            "\n",
            "       April                      May                       June\n",
            "Mo Tu We Th Fr Sa Su      Mo Tu We Th Fr Sa Su      Mo Tu We Th Fr Sa Su\n",
            "    1  2  3  4  5  6                1  2  3  4                         1\n",
            " 7  8  9 10 11 12 13       5  6  7  8  9 10 11       2  3  4  5  6  7  8\n",
            "14 15 16 17 18 19 20      12 13 14 15 16 17 18       9 10 11 12 13 14 15\n",
            "21 22 23 24 25 26 27      19 20 21 22 23 24 25      16 17 18 19 20 21 22\n",
            "28 29 30                  26 27 28 29 30 31         23 24 25 26 27 28 29\n",
            "                                                    30\n",
            "\n",
            "        July                     August                  September\n",
            "Mo Tu We Th Fr Sa Su      Mo Tu We Th Fr Sa Su      Mo Tu We Th Fr Sa Su\n",
            "    1  2  3  4  5  6                   1  2  3       1  2  3  4  5  6  7\n",
            " 7  8  9 10 11 12 13       4  5  6  7  8  9 10       8  9 10 11 12 13 14\n",
            "14 15 16 17 18 19 20      11 12 13 14 15 16 17      15 16 17 18 19 20 21\n",
            "21 22 23 24 25 26 27      18 19 20 21 22 23 24      22 23 24 25 26 27 28\n",
            "28 29 30 31               25 26 27 28 29 30 31      29 30\n",
            "\n",
            "      October                   November                  December\n",
            "Mo Tu We Th Fr Sa Su      Mo Tu We Th Fr Sa Su      Mo Tu We Th Fr Sa Su\n",
            "       1  2  3  4  5                      1  2       1  2  3  4  5  6  7\n",
            " 6  7  8  9 10 11 12       3  4  5  6  7  8  9       8  9 10 11 12 13 14\n",
            "13 14 15 16 17 18 19      10 11 12 13 14 15 16      15 16 17 18 19 20 21\n",
            "20 21 22 23 24 25 26      17 18 19 20 21 22 23      22 23 24 25 26 27 28\n",
            "27 28 29 30 31            24 25 26 27 28 29 30      29 30 31\n",
            "\n"
          ]
        }
      ]
    },
    {
      "cell_type": "code",
      "source": [
        "x=[5,10,15,20,25,30]\n",
        "freq=[2,3,1,4,5,6]\n",
        "def_sum=sum(x[num]*freq[num] for num in range(len(x)))\n",
        "mean=def_sum//sum(freq)\n",
        "print(mean)"
      ],
      "metadata": {
        "id": "FDlHQCzqhMo7",
        "colab": {
          "base_uri": "https://localhost:8080/"
        },
        "outputId": "2d89521b-da65-45bb-d48d-1f05f4b35f4d"
      },
      "execution_count": null,
      "outputs": [
        {
          "output_type": "stream",
          "name": "stdout",
          "text": [
            "20\n"
          ]
        }
      ]
    },
    {
      "cell_type": "code",
      "source": [
        "96\n",
        "x=int(input(\"enter a number:\"))\n",
        "y=int(input(\"enter a number:\"))\n",
        "z=int(input(\"enter a number:\"))\n",
        "w=int(input(\"enter a number:\"))\n",
        "q=int(input(\"enter a number:\"))\n",
        "\n",
        "a=[x,y,z,w,q]\n",
        "\n",
        "print (\"mean of given numbers is\",sum(a)/len(a))"
      ],
      "metadata": {
        "id": "awvNuWmEH-5A",
        "colab": {
          "base_uri": "https://localhost:8080/"
        },
        "outputId": "24f58b7d-0963-42b3-a4aa-6be862f16154"
      },
      "execution_count": null,
      "outputs": [
        {
          "output_type": "stream",
          "name": "stdout",
          "text": [
            "enter a number:2\n",
            "enter a number:3\n",
            "enter a number:4\n",
            "enter a number:5\n",
            "enter a number:6\n",
            "mean of given numbers is 4.0\n"
          ]
        }
      ]
    },
    {
      "cell_type": "code",
      "source": [
        "x=[5,10,15,20,25,30]\n",
        "freq=[2,3,1,4,5,6]\n",
        "\n",
        "def_sum=sum(x[num]*freq[num] for num in range(len(x)))\n",
        "mean=def_sum//sum(freq)\n",
        "print(mean)"
      ],
      "metadata": {
        "colab": {
          "base_uri": "https://localhost:8080/"
        },
        "id": "H5hX6K-kLmjE",
        "outputId": "7c098d3e-370a-460e-ed13-dc311e2a32ae"
      },
      "execution_count": null,
      "outputs": [
        {
          "output_type": "stream",
          "name": "stdout",
          "text": [
            "20\n"
          ]
        }
      ]
    },
    {
      "cell_type": "code",
      "source": [
        "intervals=[(0,5),(5,10),(10,15),(15,20),(20,25)]\n",
        "# x,y=1,2\n",
        "# x,y = intervals[x]\n",
        "# print(x,y)\n",
        "mid = [(lower + upper)/2 for (lower,upper)in intervals]\n",
        "print(mid)"
      ],
      "metadata": {
        "colab": {
          "base_uri": "https://localhost:8080/"
        },
        "id": "KvE0G1cmNYcm",
        "outputId": "209cdbfe-6130-48f9-e09a-e7367f0ba1bb"
      },
      "execution_count": null,
      "outputs": [
        {
          "output_type": "stream",
          "name": "stdout",
          "text": [
            "[2.5, 7.5, 12.5, 17.5, 22.5]\n"
          ]
        }
      ]
    },
    {
      "cell_type": "code",
      "source": [
        "import numpy as np\n",
        "\n",
        "data=[10,20,30,40]\n",
        "freq=[2,3,1,4]\n",
        "data1=np.array(data)\n",
        "freq1=np.array(freq)\n",
        "mean=np.average(data1,weights=freq1)\n",
        "print(mean)\n"
      ],
      "metadata": {
        "colab": {
          "base_uri": "https://localhost:8080/"
        },
        "id": "bFbJUu4KPZ3M",
        "outputId": "ed73a801-b944-4ba1-929b-995f02bfe3d0"
      },
      "execution_count": null,
      "outputs": [
        {
          "output_type": "stream",
          "name": "stdout",
          "text": [
            "27.0\n"
          ]
        }
      ]
    },
    {
      "cell_type": "code",
      "source": [
        "import numpy as np\n",
        "\n",
        "data = np.array([10, 20, 30, 40])\n",
        "freq = np.array([2, 3, 1, 4])\n",
        "\n",
        "mean = np.average(data, weights=freq)\n",
        "print(mean)"
      ],
      "metadata": {
        "colab": {
          "base_uri": "https://localhost:8080/"
        },
        "id": "xsXIONWkQndz",
        "outputId": "923b917a-9f0e-4e9f-bd25-2cdbd05f262f"
      },
      "execution_count": null,
      "outputs": [
        {
          "output_type": "stream",
          "name": "stdout",
          "text": [
            "27.0\n"
          ]
        }
      ]
    },
    {
      "cell_type": "code",
      "source": [
        "data=[10,15,20,25,30]\n",
        "sort_data=sorted(data)\n",
        "n= len(data)\n",
        "if n%2==0:\n",
        "  median=(sort_data[n//2]+sort_data[(n//2+1)-1])/2\n",
        "else:\n",
        "  median=(sort_data[(n+1//2)-1])\n",
        "print(\"median:\",median)\n"
      ],
      "metadata": {
        "colab": {
          "base_uri": "https://localhost:8080/"
        },
        "id": "mRsfZBi5Rk-_",
        "outputId": "9629c610-3ec5-43f6-f06c-ca7c606ac769"
      },
      "execution_count": null,
      "outputs": [
        {
          "output_type": "stream",
          "name": "stdout",
          "text": [
            "median: 30\n"
          ]
        }
      ]
    },
    {
      "cell_type": "code",
      "source": [
        "from ast import Index\n",
        "intr = [(10,20),(20,30),(30,40),(40,50)]\n",
        "freq = [5, 8, 6, 7]\n",
        "#intr=intrvals\n",
        "\n",
        "idx = freq.index(max(freq))\n",
        "m_class_intr = intr[idx]\n",
        "\n",
        "L,U = m_class_intr\n",
        "f0 = freq[idx-1]\n",
        "f1 = freq[idx]\n",
        "f2 = freq[idx+1]\n",
        "h = U-L\n",
        "\n",
        "mode = L + ((f1 - f0)/(2*f1 - f0 - f2))*h\n",
        "print(mode)\n"
      ],
      "metadata": {
        "colab": {
          "base_uri": "https://localhost:8080/"
        },
        "id": "Mvi5SJhlbAIl",
        "outputId": "ee080f10-a77a-4f49-fc91-ba902d8ba1f4"
      },
      "execution_count": null,
      "outputs": [
        {
          "output_type": "stream",
          "name": "stdout",
          "text": [
            "26.0\n"
          ]
        }
      ]
    },
    {
      "cell_type": "code",
      "source": [
        "data =[20,10,60,30,50,40]\n",
        "sort_data=sorted(data)\n",
        "n=len(data)\n",
        "if n %2==0:\n",
        "  median=(sort_data[n//2]+sort_data[(n//2+1)-1])/2\n",
        "else:\n",
        "  median=(sort_data[(n+1//2)-1])\n",
        "print(\"median:\",median)"
      ],
      "metadata": {
        "colab": {
          "base_uri": "https://localhost:8080/"
        },
        "id": "jlRPGKWSLm5k",
        "outputId": "8ed851d8-b0dc-47b6-f606-39efe6879ab1"
      },
      "execution_count": null,
      "outputs": [
        {
          "output_type": "stream",
          "name": "stdout",
          "text": [
            "median: 40.0\n"
          ]
        }
      ]
    },
    {
      "cell_type": "code",
      "source": [
        "data=[5,6,8,4]\n",
        "n = len(data)\n",
        "HM = 1\n",
        "HM = n/sum([1/x for x in data])\n",
        "print(HM)"
      ],
      "metadata": {
        "colab": {
          "base_uri": "https://localhost:8080/"
        },
        "id": "Rbxyb7q3MGL_",
        "outputId": "fce90c97-edf2-479a-b37a-b37ba695fde1"
      },
      "execution_count": null,
      "outputs": [
        {
          "output_type": "stream",
          "name": "stdout",
          "text": [
            "5.393258426966292\n"
          ]
        }
      ]
    },
    {
      "cell_type": "code",
      "source": [
        "#calculating GEOMETRIC MEAN FOR GROUPED DATA\n",
        "data=[1,2,3,4]\n",
        "freq=[4,3,2,1]\n",
        "product = 1\n",
        "for i in range(len(data)):\n",
        "  product *= data[i]**freq[i]\n",
        "geometric_mean = product**(1/sum(freq))\n",
        "print(geometric_mean)"
      ],
      "metadata": {
        "colab": {
          "base_uri": "https://localhost:8080/"
        },
        "id": "-epw659AMye7",
        "outputId": "e40db92d-37a0-468c-c47b-5619c674dc23"
      },
      "execution_count": null,
      "outputs": [
        {
          "output_type": "stream",
          "name": "stdout",
          "text": [
            "1.7617295898720438\n"
          ]
        }
      ]
    },
    {
      "cell_type": "code",
      "source": [
        "intervals=[(0,5),(5,10),(10,15),(15,20),(20,25)]\n",
        "freq=[2,3,1,4,5]\n",
        "mid=[(lower+upper)/2 for (lower,upper) in intervals]\n",
        "print(mid)"
      ],
      "metadata": {
        "colab": {
          "base_uri": "https://localhost:8080/"
        },
        "id": "Mw6TMRNdNhCn",
        "outputId": "abeae2ee-82cb-4f6e-a455-af4fc74af8a3"
      },
      "execution_count": null,
      "outputs": [
        {
          "output_type": "stream",
          "name": "stdout",
          "text": [
            "[2.5, 7.5, 12.5, 17.5, 22.5]\n"
          ]
        }
      ]
    },
    {
      "cell_type": "code",
      "source": [
        "intervals=[(0,5),(5,10),(10,15),(15,20),(20,25)]\n",
        "freq=[2,3,1,4,5]\n",
        "mid=[(lower+upper)/2 for (lower,upper) in intervals]\n",
        "n=sum(freq)\n",
        "HM=1\n",
        "for x in freq:\n",
        "#   HM*=x/n\n",
        "# print(HM)\n",
        " HM=HM+((x in mid)/x)\n",
        " HM=n/HM\n",
        "print(HM)"
      ],
      "metadata": {
        "colab": {
          "base_uri": "https://localhost:8080/"
        },
        "id": "HHJLn85QOa4U",
        "outputId": "6e594365-3c1f-47e5-f804-c7c9465252ba"
      },
      "execution_count": null,
      "outputs": [
        {
          "output_type": "stream",
          "name": "stdout",
          "text": [
            "15.0\n"
          ]
        }
      ]
    },
    {
      "cell_type": "code",
      "source": [
        "# a=4\n",
        "# b=5\n",
        "# print(\"after swapping\")\n",
        "# a,b=b,a\n",
        "# print(\"a=\",a)\n",
        "# print(\"b=\",b)"
      ],
      "metadata": {
        "colab": {
          "base_uri": "https://localhost:8080/"
        },
        "id": "0LSiZURmhYuD",
        "outputId": "2c5f73d5-fb77-46be-ac43-ba3fc69ce66f"
      },
      "execution_count": null,
      "outputs": [
        {
          "output_type": "stream",
          "name": "stdout",
          "text": [
            "after swapping\n",
            "a= 5\n",
            "b= 4\n"
          ]
        }
      ]
    },
    {
      "cell_type": "code",
      "source": [
        "def find_cov(x,y):\n",
        "  n=len(x)\n",
        "  mean_x=sum(x)/len(x)\n",
        "  mean_y=sum(y)/len(y)\n",
        "  cov=sum((x[i]-mean_x)*(y[i]-mean_y) for i in range(n))/n\n",
        "  std_x=(sum((x[i]-mean_x)**2 for i in range(n))/n)**1/2\n",
        "  std_y=(sum((y[i]-mean_y)**2 for i in range(n))/n)**1/2\n",
        "  corr=cov/(std_x*std_y)\n",
        "  return corr\n",
        "\n",
        "  x=[1,2,3,4]\n",
        "  y=[2,4,6,8,10]\n",
        "  corr=find_cov(x,y)\n",
        "  print(cov)\n",
        "\n",
        "\n",
        "\n"
      ],
      "metadata": {
        "id": "WOACnn0Pdnb8"
      },
      "execution_count": null,
      "outputs": []
    },
    {
      "cell_type": "code",
      "source": [
        "import numpy as np\n",
        "def cal_moments(data,point,freq):\n",
        "  data = np.array(data)\n",
        "  freq=np.array(freq)\n",
        "  fixi=data*frequency\n",
        "  n=len(fixi)\n",
        "  d=fixi-point\n",
        "  mu_1 = np.sum(d*freq)/n\n",
        "  mu_2 = np.sum(d**2*freq)/n\n",
        "  mu_3 = np.sum(d**3*freq)/n\n",
        "  mu_4 = np.sum(d**4*freq)/n\n",
        "  return mu_1,mu_2,mu_3,mu_4\n",
        "def findkurtosis(n,d,f):\n",
        "  beta=(np.sum(d**4)/n)/(np.sum(d**2)/n)**2\n",
        "  return beta\n",
        "  if beta>3:\n",
        "    print(\"it is leptokurtic\")\n",
        "  elif beta==0:\n",
        "    print(\"it is mesokurtic\")\n",
        "  else:\n",
        "    print(\"it is mesokurtic\")\n",
        "  A=[1,2,3,4]\n",
        "  B=[1,2,3,4]\n",
        "  a=3.5\n",
        "  m1,m2,m3,m4=cal_moments(A,a,B)\n",
        "\n",
        "  print(\"movment\",m1,m2,m3,m4)\n",
        "  beta=findkurtosis(len(A),m3,f)\n",
        "  print(beta)"
      ],
      "metadata": {
        "id": "SeU21U31c5bB"
      },
      "execution_count": null,
      "outputs": []
    }
  ]
}